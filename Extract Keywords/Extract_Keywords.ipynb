{
  "nbformat": 4,
  "nbformat_minor": 0,
  "metadata": {
    "colab": {
      "provenance": []
    },
    "kernelspec": {
      "name": "python3",
      "display_name": "Python 3"
    },
    "language_info": {
      "name": "python"
    }
  },
  "cells": [
    {
      "cell_type": "code",
      "execution_count": 1,
      "metadata": {
        "colab": {
          "base_uri": "https://localhost:8080/"
        },
        "id": "XPA_Epq3B4uh",
        "outputId": "1e946a02-c566-4987-d487-97cf29a2659f"
      },
      "outputs": [
        {
          "output_type": "stream",
          "name": "stdout",
          "text": [
            "Collecting rake-nltk\n",
            "  Downloading rake_nltk-1.0.6-py3-none-any.whl (9.1 kB)\n",
            "Requirement already satisfied: nltk<4.0.0,>=3.6.2 in /usr/local/lib/python3.10/dist-packages (from rake-nltk) (3.8.1)\n",
            "Requirement already satisfied: click in /usr/local/lib/python3.10/dist-packages (from nltk<4.0.0,>=3.6.2->rake-nltk) (8.1.7)\n",
            "Requirement already satisfied: joblib in /usr/local/lib/python3.10/dist-packages (from nltk<4.0.0,>=3.6.2->rake-nltk) (1.3.2)\n",
            "Requirement already satisfied: regex>=2021.8.3 in /usr/local/lib/python3.10/dist-packages (from nltk<4.0.0,>=3.6.2->rake-nltk) (2023.12.25)\n",
            "Requirement already satisfied: tqdm in /usr/local/lib/python3.10/dist-packages (from nltk<4.0.0,>=3.6.2->rake-nltk) (4.66.2)\n",
            "Installing collected packages: rake-nltk\n",
            "Successfully installed rake-nltk-1.0.6\n"
          ]
        }
      ],
      "source": [
        "!pip install rake-nltk"
      ]
    },
    {
      "cell_type": "code",
      "source": [
        "import nltk\n",
        "from rake_nltk import Rake\n",
        "nltk.download('stopwords')\n",
        "nltk.download('punkt')\n",
        "\n",
        "\n",
        "rake_nltk_var = Rake()"
      ],
      "metadata": {
        "colab": {
          "base_uri": "https://localhost:8080/"
        },
        "id": "0oWOqR1uCKQq",
        "outputId": "941c8b3b-000b-4495-fea3-7e7ca2acbc25"
      },
      "execution_count": 7,
      "outputs": [
        {
          "output_type": "stream",
          "name": "stderr",
          "text": [
            "[nltk_data] Downloading package stopwords to /root/nltk_data...\n",
            "[nltk_data]   Package stopwords is already up-to-date!\n",
            "[nltk_data] Downloading package punkt to /root/nltk_data...\n",
            "[nltk_data]   Unzipping tokenizers/punkt.zip.\n"
          ]
        }
      ]
    },
    {
      "cell_type": "code",
      "source": [
        "text = \"\"\" AI comes in different forms and has become widely available in everyday life.\n",
        "The smart speakers on your mantle with Alexa or Google voice assistant built-in are two great examples of AI.\n",
        "Other good examples include popular AI chatbots, such as ChatGPT, the new Bing Chat, and Google Bard.\n",
        "When you ask ChatGPT for the capital of a country, or you ask Alexa to give you an update on the weather, the responses come from machine-learning algorithms.\n",
        "Though these systems aren't a replacement for human intelligence or social interaction, they can use their training to adapt and learn new skills for tasks they weren't explicitly programmed to perform. \"\"\""
      ],
      "metadata": {
        "id": "zoABcO1JCY10"
      },
      "execution_count": 8,
      "outputs": []
    },
    {
      "cell_type": "code",
      "source": [
        "#RAKE Initialization\n",
        "rake_nltk_var.extract_keywords_from_text(text)\n",
        "\n",
        "#Keyword Extraction\n",
        "keyword_extracted = rake_nltk_var.get_ranked_phrases()\n",
        "print(keyword_extracted)"
      ],
      "metadata": {
        "colab": {
          "base_uri": "https://localhost:8080/"
        },
        "id": "OMuNplsrDORA",
        "outputId": "a9b816cf-889c-4991-edd9-a9e8cf8fec4a"
      },
      "execution_count": 9,
      "outputs": [
        {
          "output_type": "stream",
          "name": "stdout",
          "text": [
            "['good examples include popular ai chatbots', 'google voice assistant built', 'two great examples', 'new bing chat', 'learn new skills', 'become widely available', 'google bard', 'ai comes', 'social interaction', 'smart speakers', 'responses come', 'learning algorithms', 'human intelligence', 'explicitly programmed', 'everyday life', 'different forms', 'ask chatgpt', 'ask alexa', 'ai', 'chatgpt', 'alexa', 'weather', 'use', 'update', 'training', 'though', 'tasks', 'systems', 'replacement', 'perform', 'mantle', 'machine', 'give', 'country', 'capital', 'adapt']\n"
          ]
        }
      ]
    },
    {
      "cell_type": "code",
      "source": [],
      "metadata": {
        "id": "Zy2ZQSRmEA9Z"
      },
      "execution_count": null,
      "outputs": []
    }
  ]
}